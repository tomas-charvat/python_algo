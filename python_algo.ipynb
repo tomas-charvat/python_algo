{
 "cells": [
  {
   "cell_type": "code",
   "id": "initial_id",
   "metadata": {
    "collapsed": true,
    "jupyter": {
     "outputs_hidden": true
    },
    "ExecuteTime": {
     "end_time": "2024-12-27T22:28:08.121117Z",
     "start_time": "2024-12-27T22:28:08.115346Z"
    }
   },
   "source": [
    "print('hello world')"
   ],
   "execution_count": 1,
   "outputs": []
  },
  {
   "cell_type": "code",
   "id": "5386633fcb12e00e",
   "metadata": {
    "ExecuteTime": {
     "end_time": "2024-12-27T22:28:08.865519Z",
     "start_time": "2024-12-27T22:28:08.123863Z"
    }
   },
   "source": [
    "from strategy1 import Gold_5min_Strategy\n",
    "from backtesting import Strategy, Backtest\n",
    "from backtesting.lib import crossover\n",
    "from backtesting.test import SMA\n",
    "import yfinance as yf\n",
    "import pandas as pd"
   ],
   "execution_count": 2,
   "outputs": []
  },
  {
   "cell_type": "code",
   "id": "9e2f8831e1f70853",
   "metadata": {
    "ExecuteTime": {
     "end_time": "2024-12-27T22:28:09.452227Z",
     "start_time": "2024-12-27T22:28:08.866939Z"
    }
   },
   "source": [
    "gold_data=pd.read_csv('XAU_5m_data_2004_to_2024-09-20.csv')\n",
    "print(gold_data.head())"
   ],
   "execution_count": 3,
   "outputs": []
  },
  {
   "cell_type": "code",
   "id": "104d2eea2a9939fa",
   "metadata": {
    "ExecuteTime": {
     "end_time": "2024-12-27T22:28:09.800149Z",
     "start_time": "2024-12-27T22:28:09.453112Z"
    }
   },
   "source": [
    "gold_data['Datetime'] = pd.to_datetime(gold_data['Date']+' '+gold_data['Time'])\n",
    "print(gold_data.head())"
   ],
   "execution_count": 4,
   "outputs": []
  },
  {
   "cell_type": "markdown",
   "id": "e776813fe4999ab6",
   "metadata": {},
   "source": [
    "Reseting the index for the dataset and deleting unwanted columns\n",
    "\n"
   ]
  },
  {
   "cell_type": "code",
   "id": "cb638168b53be6e4",
   "metadata": {
    "ExecuteTime": {
     "end_time": "2024-12-27T22:28:09.845393Z",
     "start_time": "2024-12-27T22:28:09.802659Z"
    }
   },
   "source": [
    "gold_data.drop(columns=['Date', 'Time'], inplace=True)\n",
    "gold_data.dropna(inplace=True)\n",
    "gold_data.set_index('Datetime', inplace=True)\n",
    "print(gold_data.head())\n"
   ],
   "execution_count": 5,
   "outputs": []
  },
  {
   "cell_type": "code",
   "id": "4bd858bfb3e49a75",
   "metadata": {
    "ExecuteTime": {
     "end_time": "2024-12-27T22:32:36.606728Z",
     "start_time": "2024-12-27T22:32:33.528480Z"
    }
   },
   "source": "gold_data.to_csv('gold_5m_data2.csv')",
   "execution_count": 8,
   "outputs": []
  },
  {
   "cell_type": "code",
   "id": "2e599ca1ea44d947",
   "metadata": {
    "ExecuteTime": {
     "end_time": "2024-12-27T23:13:22.048795Z",
     "start_time": "2024-12-27T23:13:22.027764Z"
    }
   },
   "source": [
    "\n",
    "print(gold_data.info())\n",
    "print(gold_data.tail(100))"
   ],
   "execution_count": 17,
   "outputs": []
  },
  {
   "cell_type": "markdown",
   "id": "17dcce4c-b7df-44de-a696-f42e443d850a",
   "metadata": {},
   "source": ""
  },
  {
   "metadata": {
    "ExecuteTime": {
     "end_time": "2024-12-27T23:12:07.632974Z",
     "start_time": "2024-12-27T23:12:06.963637Z"
    }
   },
   "cell_type": "code",
   "source": [
    "gold_data2=pd.read_csv('XAU_5m_data_2004_to_2024-09-20.csv')\n",
    "print(gold_data2.info())"
   ],
   "id": "f395e8945f8fa027",
   "execution_count": 15,
   "outputs": []
  },
  {
   "metadata": {},
   "cell_type": "code",
   "execution_count": null,
   "source": "print('gold_data2.head()')",
   "id": "4232420489d32e30",
   "outputs": []
  }
 ],
 "metadata": {
  "kernelspec": {
   "display_name": "Python 3 (ipykernel)",
   "language": "python",
   "name": "python3"
  },
  "language_info": {
   "codemirror_mode": {
    "name": "ipython",
    "version": 3
   },
   "file_extension": ".py",
   "mimetype": "text/x-python",
   "name": "python",
   "nbconvert_exporter": "python",
   "pygments_lexer": "ipython3",
   "version": "3.10.16"
  }
 },
 "nbformat": 4,
 "nbformat_minor": 5
}
